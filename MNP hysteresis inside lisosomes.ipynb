{
 "cells": [
  {
   "cell_type": "code",
   "execution_count": 1,
   "metadata": {},
   "outputs": [],
   "source": [
    "import numpy as np\n",
    "import matplotlib.pyplot as mp\n",
    "from random import random"
   ]
  },
  {
   "cell_type": "markdown",
   "metadata": {},
   "source": [
    "Disperse an amount of nano particles $\\textit{cantidad_de_np}$ in a sphere."
   ]
  },
  {
   "cell_type": "code",
   "execution_count": 3,
   "metadata": {},
   "outputs": [],
   "source": [
    "\n",
    "\n",
    "\n",
    "cantidad_de_np = 10\n",
    "\n",
    "diametro = 12*10**-9    #Diameter of NP in meters\n",
    "f = 5*10**-7           #Lisosome radius\n",
    "B_max = 2.5            #Tesla\n",
    "\n",
    "\n",
    "\n",
    "\n",
    "def p_punto(m,e,i,j):    #Multiple rows of matrices\n",
    "    \n",
    "    s = 0\n",
    "\n",
    "    for k in range(0,3):\n",
    "        s = s + m[i,k] * e[j,k]\n",
    "        \n",
    "    return s\n",
    "\n",
    "\n",
    "\n",
    "\n",
    "u_0   = 12.57 * 10**(-7) # H / m\n",
    "\n",
    "def campo_externo(t):       #External field\n",
    "    w = 0.5     #Trial value\n",
    "    H = B_max  * np.sin(w*t)\n",
    "    return H\n",
    "\n",
    "\n",
    "\n",
    "## Nanoparticle position\n",
    "\n",
    "\n",
    "\n",
    "position =  np.matrix(np.empty(shape=(0,3), dtype=float))\n",
    "\n",
    "#We put the NP inside a sphere in the cartesian coordinates (1,1,1) as a lisosome\n",
    "\n",
    "n = 0\n",
    "while n < cantidad_de_np:\n",
    "    a = 2*random()\n",
    "    b = 2*random()\n",
    "    c = 2*random()\n",
    "    if (a-1)**2 + (b-1)**2 + (c-1)**2 <= 1:\n",
    "    \n",
    "        position = np.insert(position, n, [a*f , b*f, c*f], axis = 0)\n",
    "        n = n + 1\n",
    "\n",
    "\n",
    "## Easy axis and initial magnetization directions\n",
    "## Both odf them as unitary vectors\n",
    "\n",
    "\n",
    "easy_axis = np.matrix(np.empty(shape=(0,3), dtype=float))\n",
    "\n",
    "for i in range(0,cantidad_de_np):\n",
    "    a = random()\n",
    "    b = random()\n",
    "    c = random()\n",
    "    d = (a**2 + b**2 + c**2)**0.5\n",
    "    easy_axis = np.insert(easy_axis, i, [a/d , b/d, c/d], axis = 0)\n",
    "\n",
    "    \n",
    "    \n",
    "magnetizacion = np.matrix(np.empty(shape=(0,3), dtype=float))\n",
    "    \n",
    "for i in range(0,cantidad_de_np):\n",
    "    a = random()\n",
    "    b = random()\n",
    "    c = random()\n",
    "    d = (a**2 + b**2 + c**2)**0.5\n",
    "    magnetizacion = np.insert(magnetizacion, i, [a/d , b/d, c/d], axis = 0)\n",
    "    \n",
    "#magnetizacion,position"
   ]
  },
  {
   "cell_type": "markdown",
   "metadata": {},
   "source": [
    "Ahora generamos los vectores unitarios que unen a las nanopartículas, junto con las distancias que las separan. Obteneos también el vector del campo magnetico que afecta al dipolo, tanto por las demás NP, como el campo externo.\n",
    "\n",
    "# Falta comprobar las magnitudes"
   ]
  },
  {
   "cell_type": "code",
   "execution_count": 5,
   "metadata": {},
   "outputs": [],
   "source": [
    "def campo_total(t): #Total field\n",
    "    K_eff = 13000                            # J m^-3\n",
    "    M_s   = 10**6                            # A m^-1\n",
    "    V     = (4/3)*np.pi*(diametro/2)**3      # m^3\n",
    "    u_0   = 12.57 * 10**(-7)                 # H / m\n",
    "    \n",
    "    \n",
    "    campo_dipol = np.zeros([cantidad_de_np,3])\n",
    "    #t = 7*np.pi/(8*628318.5307179586)\n",
    "    #t = (np.pi/4)/0.5\n",
    "    \n",
    "    \n",
    "    for i in range(0,cantidad_de_np):\n",
    "        direccion = np.zeros([cantidad_de_np,3]) \n",
    "        dipol = [0,0,0]\n",
    "        #Columna 1 , 2, y 3: vector unitario. Columna 4: distancia\n",
    "        r = 0\n",
    "        \n",
    "        for j in range(0,cantidad_de_np):\n",
    "            if i != j:\n",
    "                for k in range(0,3):\n",
    "                    direccion[j,k] = position[j,k] - position[i,k]\n",
    "                    r = r + direccion[j,k]**2\n",
    "                r = r**0.5\n",
    "                    \n",
    "                for l in range(0,3):\n",
    "                    direccion[j,l] = direccion[j,l]/r**0.5\n",
    "                \n",
    "                dipol = dipol + (3 * p_punto(magnetizacion,direccion,j,j) * direccion[j,] - magnetizacion[j,]) / r**3\n",
    "        \n",
    "        campo_dipol[i,] = (u_0*M_s*V/(4*np.pi))*dipol\n",
    "        \n",
    "        campo_dipol[i,2] = campo_dipol[i,2] + campo_externo(t)\n",
    "        \n",
    "    return campo_dipol\n",
    "\n"
   ]
  },
  {
   "cell_type": "code",
   "execution_count": 24,
   "metadata": {},
   "outputs": [],
   "source": [
    "campo_dipol = campo_total(0)"
   ]
  },
  {
   "cell_type": "code",
   "execution_count": 9,
   "metadata": {},
   "outputs": [],
   "source": [
    "def angu_mag(campo_dipol):\n",
    "    angulo_mag      = []       # Easy axis - magnetizacion   -> Theta\n",
    "    angulo_posicion = []       # Easy axis - magnetic field  -> Phi\n",
    "    \n",
    "    for i in range(0,cantidad_de_np):\n",
    "        w = campo_dipol[i,]\n",
    "        q = np.matrix(w/(w**2).sum() **0.5)\n",
    "        plano = np.cross(q,easy_axis[i,])\n",
    "        \n",
    "        ang_2 = np.arccos(p_punto(q,easy_axis[i,],0,0))     #Phi\n",
    "        angulo_posicion.append(ang_2)\n",
    "        \n",
    "        ang_1 = np.arccos(p_punto(easy_axis,magnetizacion,0,i))\n",
    "        angulo_mag.append(ang_1)\n",
    "        \n",
    "    return\n",
    "    "
   ]
  },
  {
   "cell_type": "code",
   "execution_count": 12,
   "metadata": {},
   "outputs": [
    {
     "data": {
      "text/plain": [
       "[0.8667239224668556,\n",
       " 0.3648588371959342,\n",
       " 0.5343571057884074,\n",
       " 1.2426404522524044,\n",
       " 1.0927415129192894,\n",
       " 0.6974747949808991,\n",
       " 0.15370696484743054,\n",
       " 0.5350606533587862,\n",
       " 0.6347841690874511,\n",
       " 0.7613182943326658]"
      ]
     },
     "execution_count": 12,
     "metadata": {},
     "output_type": "execute_result"
    }
   ],
   "source": [
    "angulo_mag      = []       # Easy axis - magnetizacion   -> Theta\n",
    "angulo_posicion = []       # Easy axis - magnetic field  -> Phi\n",
    "\n",
    "for i in range(0,cantidad_de_np):\n",
    "    w = campo_dipol[i,]\n",
    "    q = np.matrix(w/(w**2).sum() **0.5)\n",
    "    plano = np.cross(q,easy_axis[i,])\n",
    "    \n",
    "    \n",
    "    ang_2 = np.arccos(p_punto(q,easy_axis[i,],0,0))     #Phi\n",
    "    angulo_posicion.append(ang_2)\n",
    "\n",
    "    ang_1 = np.arccos(p_punto(easy_axis,magnetizacion,0,i))\n",
    "    angulo_mag.append(ang_1)\n",
    "    \n",
    "#angulo_posicion,angulo_mag\n",
    "angulo_mag"
   ]
  },
  {
   "cell_type": "markdown",
   "metadata": {},
   "source": [
    "\n",
    "Queremos obtener el campo total, para lo cual necesitamos obtener el campo externo en cada instante del tiempo.\n",
    "\n",
    "Lo que haremos será dividir el tiempo, que se requiere para completar un ciclo de cambio en el campo externo, en 2000 pasos."
   ]
  },
  {
   "cell_type": "markdown",
   "metadata": {},
   "source": [
    "# Obtenemos los ángulos\n"
   ]
  },
  {
   "cell_type": "code",
   "execution_count": 29,
   "metadata": {},
   "outputs": [],
   "source": [
    "# i es el índice de la i-ésima NP\n",
    "\n",
    "def energia(theta,i):   #Energy function\n",
    "    K_eff = 10**6           # J m^-3\n",
    "    V     = (4/3)*np.pi*(diametro/2)**3      # m^3\n",
    "    u_0   = 12.57 * 10**(-7) # H / m\n",
    "    M_s   = 10**6            # A m^-1\n",
    "\n",
    "    \n",
    "    campo = (campo_dipol[i,]**2).sum() **0.5\n",
    "    \n",
    "    #return np.sin(theta)**2 - -2*np.cos(theta-np.pi/6)   E / K_b T\n",
    "    #return campo\n",
    "    return (K_eff*V)*np.sin(theta)**2 - (M_s*V*campo)*np.cos(theta-angulo_mag[i])\n",
    "    \n",
    "\n",
    "def derivada_ener(x,i):\n",
    "    h = 0.0000001\n",
    "    d = (energia(x+h,i) - energia(x,i) )/ h\n",
    "    return d"
   ]
  },
  {
   "cell_type": "code",
   "execution_count": 13,
   "metadata": {},
   "outputs": [],
   "source": [
    "def probabilidad(i):  #i es el número de nanopartícula\n",
    "    t_step = 2*np.pi/(0.5 * 2000)\n",
    "    raices = []\n",
    "    energies = []\n",
    "    \n",
    "    tolerancia = 0.0001\n",
    "    cota_de_error = np.pi/100\n",
    "    \n",
    "    h = 0.00001\n",
    "    paso = 5/200\n",
    "    \n",
    "    K_B   = 1.38064852 * 10**(-23) # m^2 kg s^-2 K^-1\n",
    "    T     = 300\n",
    "    \n",
    "    v_10, v_20 = 10**10,10**10\n",
    "    \n",
    "    #t_step = 0.00005\n",
    "    \n",
    "    for j in range(0,200):    #comienza en 4 para evitar encontrar la raiz trivial (el máximo global)\n",
    "        \n",
    "        a = 4 - paso*j\n",
    "        c = 4 - (1 + j)*paso\n",
    "        d_1 = derivada_ener(a,i) \n",
    "        d_2 = derivada_ener(c,i)\n",
    "        if (d_1 < 0 and d_2 > 0):\n",
    "        #if (d_1 > 0 and d_2 < 0):\n",
    "        \n",
    "            x_0 = c\n",
    "            \n",
    "            \n",
    "            \n",
    "            for l in range (0,10):\n",
    "                dderiv_ener = (derivada_ener(x_0 + h,i)-derivada_ener(x_0,i) )/h\n",
    "                x_i = x_0 - derivada_ener(x_0,i)/dderiv_ener\n",
    "                \n",
    "                x_0 = x_i\n",
    "                \n",
    "            raices.append(x_0)\n",
    "            energies.append(energia(x_0,i))\n",
    "            #print(derivada_ener(c,i))\n",
    "            \n",
    "        elif (d_1 > 0 and d_2 < 0):\n",
    "        #elif (d_1 < 0 and d_2 > 0):\n",
    "       \n",
    "            x_0 = c\n",
    "            \n",
    "            \n",
    "            \n",
    "            for l in range (0,10):\n",
    "                dderiv_ener = (derivada_ener(x_0 + h,i)-derivada_ener(x_0,i) )/h\n",
    "                x_i = x_0 - derivada_ener(x_0,i)/dderiv_ener\n",
    "                \n",
    "                x_0 = x_i\n",
    "                \n",
    "            raices.append(x_0)\n",
    "            energies.append(energia(x_0,i))\n",
    "            #print(derivada_ener(c,i))\n",
    "        \n",
    "    if np.shape(raices) == (3,):\n",
    "        #CALCULAMOS V_1 Y V_2\n",
    "        v_2 = v_10 * np.exp(-(energies[1] - energies[0])/(K_B*T))\n",
    "        \n",
    "        v_1 = v_20 * np.exp(-(energies[1] - energies[2])/(K_B*T))\n",
    "        \n",
    "        P_21 = v_2/(v_1 + v_2) *(1 - np.exp(-(v_1 + v_2)*t_step))\n",
    "        #P_21 =  (np.exp(-(v_1 + v_2)*t_step))\n",
    "        \n",
    "        return P_21\n",
    "    #return energies[1]-energies[0],energies[1]-energies[2]"
   ]
  },
  {
   "cell_type": "code",
   "execution_count": 19,
   "metadata": {},
   "outputs": [],
   "source": [
    "probabilidad(5)"
   ]
  },
  {
   "cell_type": "code",
   "execution_count": 9,
   "metadata": {},
   "outputs": [],
   "source": [
    "campo_dipol = campo_total(6)"
   ]
  },
  {
   "cell_type": "code",
   "execution_count": 21,
   "metadata": {},
   "outputs": [
    {
     "data": {
      "text/plain": [
       "[<matplotlib.lines.Line2D at 0x7f63c04ab198>]"
      ]
     },
     "execution_count": 21,
     "metadata": {},
     "output_type": "execute_result"
    },
    {
     "data": {
      "image/png": "[encoded data removed]",
      "text/plain": [
       "<Figure size 432x288 with 1 Axes>"
      ]
     },
     "metadata": {
      "needs_background": "light"
     },
     "output_type": "display_data"
    }
   ],
   "source": [
    "\n",
    "x = np.arange(-1/2 *np.pi,3/2 *np.pi,1*np.pi/200)\n",
    "\n",
    "\n",
    "\n",
    "mp.plot(x,energia(x,5))"
   ]
  },
  {
   "cell_type": "code",
   "execution_count": 32,
   "metadata": {},
   "outputs": [
    {
     "ename": "TypeError",
     "evalue": "'list' object is not callable",
     "output_type": "error",
     "traceback": [
      "\u001b[0;31m---------------------------------------------------------------------------\u001b[0m",
      "\u001b[0;31mTypeError\u001b[0m                                 Traceback (most recent call last)",
      "\u001b[0;32m<ipython-input-32-705468482706>\u001b[0m in \u001b[0;36m<module>\u001b[0;34m\u001b[0m\n\u001b[0;32m----> 1\u001b[0;31m \u001b[0mmaxi\u001b[0m \u001b[0;34m=\u001b[0m \u001b[0mraices\u001b[0m\u001b[0;34m(\u001b[0m\u001b[0;36m8\u001b[0m\u001b[0;34m)\u001b[0m\u001b[0;34m\u001b[0m\u001b[0;34m\u001b[0m\u001b[0m\n\u001b[0m\u001b[1;32m      2\u001b[0m \u001b[0;31m#energies = ener_raices(raices)\u001b[0m\u001b[0;34m\u001b[0m\u001b[0;34m\u001b[0m\u001b[0;34m\u001b[0m\u001b[0m\n\u001b[1;32m      3\u001b[0m \u001b[0;34m\u001b[0m\u001b[0m\n",
      "\u001b[0;31mTypeError\u001b[0m: 'list' object is not callable"
     ]
    }
   ],
   "source": [
    "maxi = raices(8)\n",
    "#energies = ener_raices(raices)\n",
    "\n"
   ]
  },
  {
   "cell_type": "code",
   "execution_count": 27,
   "metadata": {},
   "outputs": [],
   "source": [
    "def raices(i):  #i es el número de nanopartícula\n",
    "    raices = []\n",
    "    \n",
    "    \n",
    "    tolerancia = 0.0001\n",
    "    cota_de_error = np.pi/100\n",
    "    \n",
    "    h = 0.00001\n",
    "    paso = 5/200\n",
    "    \n",
    "    K_B   = 1.38064852 * 10**(-23) # m^2 kg s^-2 K^-1\n",
    "    T     = 300\n",
    "    \n",
    "    v_10, v_20 = 10**10,10**10\n",
    "    \n",
    "    t_step = 0.00005\n",
    "    \n",
    "    for j in range(0,200):    #comienza en 4 para evitar encontrar la raiz trivial (el máximo global)\n",
    "        \n",
    "        a = 4 - paso*j\n",
    "        c = 4 - (1 + j)*paso\n",
    "        d_1 = derivada_ener(a,i) \n",
    "        d_2 = derivada_ener(c,i)\n",
    "        if (d_1 < 0 and d_2 > 0):\n",
    "        #if (d_1 > 0 and d_2 < 0):\n",
    "        \n",
    "            x_0 = c\n",
    "            \n",
    "            \n",
    "            \n",
    "            for l in range (0,10):\n",
    "                dderiv_ener = (derivada_ener(x_0 + h,i)-derivada_ener(x_0,i) )/h\n",
    "                x_i = x_0 - derivada_ener(x_0,i)/dderiv_ener\n",
    "                \n",
    "                x_0 = x_i\n",
    "                \n",
    "            raices.append(x_0)\n",
    "            #energies.append(energia(x_0,i))\n",
    "            #print(derivada_ener(c,i))\n",
    "            \n",
    "        elif (d_1 > 0 and d_2 < 0):\n",
    "        #elif (d_1 < 0 and d_2 > 0):\n",
    "       \n",
    "            x_0 = c\n",
    "                        \n",
    "            for l in range (0,10):\n",
    "                dderiv_ener = (derivada_ener(x_0 + h,i)-derivada_ener(x_0,i) )/h\n",
    "                x_i = x_0 - derivada_ener(x_0,i)/dderiv_ener\n",
    "                \n",
    "                x_0 = x_i\n",
    "            raices.append(x_0)\n",
    "                \n",
    "    return raices                \n",
    "            \n",
    "    \n",
    "def ener_raices(j):\n",
    "    energies = []\n",
    "    \n",
    "    for i in range(0,2):\n",
    "        energies.append(energia(raices[i],j))\n",
    "        \n",
    "    return energies\n",
    "            \n",
    "        \n",
    "def probability(i):\n",
    "    \n",
    "    \n",
    "    if np.shape(raices) == (3,):\n",
    "        #CALCULAMOS V_1 Y V_2\n",
    "        v_2 = v_10 * np.exp(-(energies[1] - energies[0])/(K_B*T))\n",
    "        \n",
    "        v_1 = v_20 * np.exp(-(energies[1] - energies[2])/(K_B*T))\n",
    "        \n",
    "        P_21 = v_2/(v_1 + v_2) *(1 - np.exp(-(v_1 + v_2)*t_step))\n",
    "        #P_21 =  (np.exp(-(v_1 + v_2)*t_step))\n",
    "        \n",
    "        return P_21\n",
    "    #return energies[1]-energies[0],energies[1]-energies[2]"
   ]
  },
  {
   "cell_type": "code",
   "execution_count": null,
   "metadata": {},
   "outputs": [],
   "source": []
  },
  {
   "cell_type": "code",
   "execution_count": 36,
   "metadata": {},
   "outputs": [
    {
     "data": {
      "image/png": "[encoded data removed]",
      "text/plain": [
       "<Figure size 432x288 with 1 Axes>"
      ]
     },
     "metadata": {
      "needs_background": "light"
     },
     "output_type": "display_data"
    }
   ],
   "source": [
    "x = np.arange(-1/2 *np.pi,3/2 *np.pi,1*np.pi/200)\n",
    "\n",
    "for i in range(0,20):\n",
    "    campo_dipol = campo_total(i)\n",
    "    \n",
    "    mp.plot(x,energia(x,5))\n",
    "    \n",
    "mp.show()"
   ]
  },
  {
   "cell_type": "code",
   "execution_count": null,
   "metadata": {},
   "outputs": [],
   "source": []
  }
 ],
 "metadata": {
  "kernelspec": {
   "display_name": "Python 3",
   "language": "python",
   "name": "python3"
  },
  "language_info": {
   "codemirror_mode": {
    "name": "ipython",
    "version": 3
   },
   "file_extension": ".py",
   "mimetype": "text/x-python",
   "name": "python",
   "nbconvert_exporter": "python",
   "pygments_lexer": "ipython3",
   "version": "3.6.8"
  }
 },
 "nbformat": 4,
 "nbformat_minor": 2
}
